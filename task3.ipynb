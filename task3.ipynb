{
 "cells": [
  {
   "cell_type": "code",
   "execution_count": null,
   "metadata": {},
   "outputs": [],
   "source": [
    "# Import necessary libraries\n",
    "from pyspark import SparkContext\n",
    "import pandas as pd  # Importing pandas from the Conda environment\n",
    "\n",
    "# Create SparkContext\n",
    "sc = SparkContext()\n",
    "\n",
    "# Load data from HDFS into RDD\n",
    "rdd = sc.textFile(\"hdfs://localhost:9000/data/india-news-headlines_copy_1.csv\")"
   ]
  },
  {
   "cell_type": "code",
   "execution_count": null,
   "metadata": {},
   "outputs": [],
   "source": [
    "# Define your processing functions\n",
    "def process_map(line):\n",
    "    # Perform map operation\n",
    "    return line.split(',')\n",
    "\n",
    "def process_flatMap(line):\n",
    "    # Perform flatMap operation\n",
    "    return line.split(',')\n",
    "\n",
    "def process_reduceByKey(line):\n",
    "    # Perform reduceByKey operation\n",
    "    return (line[1], 1)"
   ]
  },
  {
   "cell_type": "code",
   "execution_count": null,
   "metadata": {},
   "outputs": [],
   "source": [
    "# Apply RDD transformations\n",
    "rdd_map = rdd.map(process_map)\n",
    "rdd_flatMap = rdd.flatMap(process_flatMap)\n",
    "rdd_reduceByKey = rdd_map.map(process_reduceByKey).reduceByKey(lambda x, y: x + y)"
   ]
  },
  {
   "cell_type": "code",
   "execution_count": null,
   "metadata": {},
   "outputs": [],
   "source": [
    "# Display results with error handling\n",
    "print(\"RDD with map transformation:\")\n",
    "try:\n",
    "    print(rdd_map.take(5))\n",
    "except Exception as e:\n",
    "    print(\"An error occurred while executing take(5) on RDD with map transformation:\", str(e))\n",
    "\n",
    "print(\"\\nRDD with flatMap transformation:\")\n",
    "try:\n",
    "    print(rdd_flatMap.take(10))\n",
    "except Exception as e:\n",
    "    print(\"An error occurred while executing take(10) on RDD with flatMap transformation:\", str(e))\n",
    "\n",
    "print(\"\\nRDD with reduceByKey transformation:\")\n",
    "try:\n",
    "    print(rdd_reduceByKey.take(5))\n",
    "except Exception as e:\n",
    "    print(\"An error occurred while executing take(5) on RDD with reduceByKey transformation:\", str(e))\n",
    "\n",
    "# Stop SparkContext\n",
    "sc.stop()"
   ]
  }
 ],
 "metadata": {
  "language_info": {
   "name": "python"
  }
 },
 "nbformat": 4,
 "nbformat_minor": 2
}
