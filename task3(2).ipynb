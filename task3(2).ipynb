{
 "cells": [
  {
   "cell_type": "code",
   "execution_count": null,
   "metadata": {},
   "outputs": [],
   "source": [
    "# Import necessary libraries\n",
    "from pyspark import SparkContext\n",
    "from pyspark.sql import SparkSession\n",
    "import pandas as pd"
   ]
  },
  {
   "cell_type": "code",
   "execution_count": null,
   "metadata": {},
   "outputs": [],
   "source": [
    "# Create SparkContext\n",
    "sc = SparkContext()\n",
    "spark = SparkSession(sc)\n",
    "\n",
    "# Load data from HDFS into RDD\n",
    "rdd = sc.textFile(\"hdfs://localhost:9000/data/india-news-headlines_copy_1.csv\")\n",
    "\n",
    "# Define your processing functions\n",
    "def process_map(line):\n",
    "    # Perform map operation\n",
    "    return line.split(',')\n",
    "\n",
    "def process_flatMap(line):\n",
    "    # Perform flatMap operation\n",
    "    return line.split(',')\n",
    "\n",
    "def process_reduceByKey(line):\n",
    "    # Perform reduceByKey operation\n",
    "    return (line[1], 1)"
   ]
  },
  {
   "cell_type": "code",
   "execution_count": null,
   "metadata": {},
   "outputs": [],
   "source": [
    "# Apply RDD transformations\n",
    "rdd_map = rdd.map(process_map)\n",
    "rdd_flatMap = rdd.flatMap(process_flatMap)\n",
    "rdd_reduceByKey = rdd_map.map(process_reduceByKey).reduceByKey(lambda x, y: x + y)\n"
   ]
  },
  {
   "cell_type": "code",
   "execution_count": null,
   "metadata": {},
   "outputs": [],
   "source": [
    "# Convert RDD to DataFrame\n",
    "df = spark.createDataFrame(rdd_map, schema=[\"publish_date\", \"headline_category\", \"headline_text\"])\n",
    "\n",
    "# Convert DataFrame to Pandas DataFrame\n",
    "pandas_df = df.toPandas()\n",
    "\n",
    "# Perform additional operations using Pandas\n",
    "# For example, let's filter rows where headline_category is not 'unknown'\n",
    "filtered_pandas_df = pandas_df[pandas_df['headline_category'] != 'unknown']"
   ]
  },
  {
   "cell_type": "code",
   "execution_count": null,
   "metadata": {},
   "outputs": [],
   "source": [
    "# Display Pandas DataFrame after filtering\n",
    "print(\"Filtered Pandas DataFrame:\")\n",
    "print(filtered_pandas_df.head())\n",
    "\n",
    "# Convert Pandas DataFrame back to Spark DataFrame\n",
    "df_filtered = spark.createDataFrame(filtered_pandas_df)\n",
    "\n",
    "# Convert Spark DataFrame to RDD if needed\n",
    "rdd_filtered = df_filtered.rdd\n",
    "\n",
    "# Display first few elements of RDD if needed\n",
    "print(\"RDD after filtering:\")\n",
    "print(rdd_filtered.take(5))\n",
    "\n",
    "# Stop SparkContext\n",
    "sc.stop()"
   ]
  }
 ],
 "metadata": {
  "language_info": {
   "name": "python"
  }
 },
 "nbformat": 4,
 "nbformat_minor": 2
}
