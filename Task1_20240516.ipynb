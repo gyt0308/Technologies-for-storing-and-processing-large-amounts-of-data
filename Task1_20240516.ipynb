{
 "cells": [
  {
   "cell_type": "code",
   "execution_count": 1,
   "metadata": {},
   "outputs": [],
   "source": [
    "import pyspark\n",
    "from pyspark.sql import SparkSession\n",
    "spark = SparkSession.builder.master(\"local[1]\") \\\n",
    "                    .appName('task') \\\n",
    "                    .getOrCreate()"
   ]
  },
  {
   "cell_type": "code",
   "execution_count": 2,
   "metadata": {},
   "outputs": [],
   "source": [
    "# Define schema for the CSV file\n",
    "from pyspark.sql import functions as func\n",
    "from pyspark.sql.types import StructType, StringType\n",
    "schema = StructType().add(\"publish_date\", StringType()) \\\n",
    "                     .add(\"headline_category\", StringType()) \\\n",
    "                     .add(\"headline_text\", StringType())"
   ]
  },
  {
   "cell_type": "code",
   "execution_count": 3,
   "metadata": {},
   "outputs": [],
   "source": [
    "# Read CSV file with explicit schema\n",
    "df = spark.read.csv(\"hdfs://localhost:9000/data/india-news-headlines.csv\",\n",
    "                    header=True, schema=schema)"
   ]
  },
  {
   "cell_type": "code",
   "execution_count": 4,
   "metadata": {},
   "outputs": [],
   "source": [
    "# Register DataFrame as a temporary view\n",
    "df.createOrReplaceTempView(\"hdfs://localhost:9000/data/india_news_headlines\")"
   ]
  },
  {
   "cell_type": "code",
   "execution_count": 5,
   "metadata": {},
   "outputs": [],
   "source": [
    "import time\n",
    "# Measure execution time for DataFrame operations\n",
    "start_time_df = time.time()"
   ]
  },
  {
   "cell_type": "code",
   "execution_count": 6,
   "metadata": {},
   "outputs": [
    {
     "name": "stdout",
     "output_type": "stream",
     "text": [
      "+--------------------+-------------+\n",
      "|   headline_category|num_headlines|\n",
      "+--------------------+-------------+\n",
      "|               india|       307371|\n",
      "|             unknown|       209583|\n",
      "|         city.mumbai|       168086|\n",
      "|          city.delhi|       148240|\n",
      "|      city.hyderabad|       132872|\n",
      "|business.india-bu...|       125900|\n",
      "|     city.chandigarh|       121785|\n",
      "|      city.bengaluru|       108363|\n",
      "|      city.ahmedabad|       107307|\n",
      "|        city.kolkata|       107052|\n",
      "+--------------------+-------------+\n",
      "\n"
     ]
    }
   ],
   "source": [
    "# Perform SQL operations using DataFrame API\n",
    "result_df = spark.sql(\"\"\"\n",
    "    WITH temp_table AS (\n",
    "        SELECT publish_date, headline_category, headline_text\n",
    "        FROM india_news_headlines\n",
    "        WHERE publish_date BETWEEN '20010102' AND '20230630'\n",
    "    )\n",
    "    SELECT headline_category, COUNT(*) AS num_headlines\n",
    "    FROM temp_table\n",
    "    GROUP BY headline_category\n",
    "    ORDER BY num_headlines DESC\n",
    "    LIMIT 10\n",
    "\"\"\")\n",
    "\n",
    "# Display DataFrame result\n",
    "result_df.show()\n",
    "\n",
    "end_time_df = time.time()\n",
    "execution_time_df = end_time_df - start_time_df\n"
   ]
  },
  {
   "cell_type": "code",
   "execution_count": 7,
   "metadata": {},
   "outputs": [],
   "source": [
    "import time\n",
    "from pyspark import SparkContext\n",
    "\n",
    "# Create SparkContext\n",
    "sc = SparkContext.getOrCreate()"
   ]
  },
  {
   "cell_type": "code",
   "execution_count": 8,
   "metadata": {},
   "outputs": [],
   "source": [
    "# Load data into RDD\n",
    "rdd = sc.textFile(\"hdfs://localhost:9000/data/india-news-headlines.csv\") \\\n",
    "        .map(lambda line: line.split(\",\"))"
   ]
  },
  {
   "cell_type": "code",
   "execution_count": 9,
   "metadata": {},
   "outputs": [],
   "source": [
    "# Filter data based on date range and map to key-value pairs\n",
    "filtered_rdd = rdd.filter(lambda row: '20010102' <= row[0] <= '20230630') \\\n",
    "                  .map(lambda row: (row[1], 1))"
   ]
  },
  {
   "cell_type": "code",
   "execution_count": 10,
   "metadata": {},
   "outputs": [],
   "source": [
    "# Perform RDD operations\n",
    "start_time_rdd = time.time()"
   ]
  },
  {
   "cell_type": "code",
   "execution_count": 11,
   "metadata": {},
   "outputs": [],
   "source": [
    "# Reduce by key to aggregate counts\n",
    "aggregated_rdd = filtered_rdd.reduceByKey(lambda a, b: a + b)"
   ]
  },
  {
   "cell_type": "code",
   "execution_count": 12,
   "metadata": {},
   "outputs": [],
   "source": [
    "# Swap key-value pairs\n",
    "swapped_rdd = aggregated_rdd.map(lambda x: (x[1], x[0]))"
   ]
  },
  {
   "cell_type": "code",
   "execution_count": 13,
   "metadata": {},
   "outputs": [
    {
     "name": "stdout",
     "output_type": "stream",
     "text": [
      "Top 10 records after sorting:\n",
      "(307371, 'india')\n",
      "(209583, 'unknown')\n",
      "(168086, 'city.mumbai')\n",
      "(148240, 'city.delhi')\n",
      "(132872, 'city.hyderabad')\n",
      "(125900, 'business.india-business')\n",
      "(121785, 'city.chandigarh')\n",
      "(108363, 'city.bengaluru')\n",
      "(107307, 'city.ahmedabad')\n",
      "(107052, 'city.kolkata')\n"
     ]
    }
   ],
   "source": [
    "try:\n",
    "    # Sort by count in descending order\n",
    "    sorted_rdd = swapped_rdd.sortByKey(ascending=False)\n",
    "\n",
    "    # Take top 10 records\n",
    "    result_rdd = sorted_rdd.take(10)\n",
    "\n",
    "    # Display RDD result\n",
    "    print(\"Top 10 records after sorting:\")\n",
    "    for item in result_rdd:\n",
    "        print(item)\n",
    "\n",
    "except Exception as e:\n",
    "    print(\"Error occurred while sorting RDD:\", e)\n",
    "    \n",
    "end_time_rdd = time.time()   \n",
    "execution_time_rdd = end_time_rdd - start_time_rdd"
   ]
  },
  {
   "cell_type": "code",
   "execution_count": 14,
   "metadata": {},
   "outputs": [
    {
     "name": "stdout",
     "output_type": "stream",
     "text": [
      "+--------------------+------+\n",
      "|   headline_category| count|\n",
      "+--------------------+------+\n",
      "|               india|307371|\n",
      "|             unknown|209583|\n",
      "|         city.mumbai|168086|\n",
      "|          city.delhi|148240|\n",
      "|      city.hyderabad|132872|\n",
      "|business.india-bu...|125900|\n",
      "|     city.chandigarh|121785|\n",
      "|      city.bengaluru|108363|\n",
      "|      city.ahmedabad|107307|\n",
      "|        city.kolkata|107052|\n",
      "+--------------------+------+\n",
      "\n"
     ]
    }
   ],
   "source": [
    "# Measure execution time for DataSet operations\n",
    "start_time_ds = time.time()\n",
    "# Perform SQL operations using DataSet API directly from DataFrame\n",
    "result_ds = df.filter(func.col(\"publish_date\").between('20010102', '20230630')) \\\n",
    "              .groupby(\"headline_category\") \\\n",
    "              .count() \\\n",
    "              .orderBy(\"count\", ascending=False) \\\n",
    "              .limit(10)\n",
    "\n",
    "# Display DataSet result\n",
    "result_ds.show()\n",
    "end_time_ds = time.time()\n",
    "execution_time_ds = end_time_ds - start_time_ds"
   ]
  },
  {
   "cell_type": "code",
   "execution_count": 15,
   "metadata": {},
   "outputs": [
    {
     "name": "stdout",
     "output_type": "stream",
     "text": [
      "Execution time using DataFrame: 6.738982677459717 seconds\n",
      "Execution time using DataSet: 5.4899842739105225 seconds\n",
      "Execution time using rdd: 20.501856088638306 seconds\n"
     ]
    }
   ],
   "source": [
    "# Print execution times\n",
    "print(\"Execution time using DataFrame: {} seconds\".format(execution_time_df))\n",
    "print(\"Execution time using DataSet: {} seconds\".format(execution_time_ds))\n",
    "print(\"Execution time using rdd: {} seconds\".format(execution_time_rdd))"
   ]
  },
  {
   "cell_type": "code",
   "execution_count": 16,
   "metadata": {},
   "outputs": [],
   "source": [
    "# Load data from HDFS into RDD\n",
    "rdd = sc.textFile(\"hdfs://localhost:9000/data/india-news-headlines.csv\")"
   ]
  },
  {
   "cell_type": "code",
   "execution_count": 17,
   "metadata": {},
   "outputs": [],
   "source": [
    "# Define your processing functions\n",
    "def process_map(line):\n",
    "    # Perform map operation\n",
    "    return line.split(',')\n",
    "\n",
    "def process_flatMap(line):\n",
    "    # Perform flatMap operation\n",
    "    return line.split(',')\n",
    "\n",
    "def process_reduceByKey(line):\n",
    "    # Perform reduceByKey operation\n",
    "    return (line[1], 1)"
   ]
  },
  {
   "cell_type": "code",
   "execution_count": 18,
   "metadata": {},
   "outputs": [],
   "source": [
    "# Apply RDD transformations\n",
    "rdd_map = rdd.map(process_map)\n",
    "rdd_flatMap = rdd.flatMap(process_flatMap)\n",
    "rdd_reduceByKey = rdd_map.map(process_reduceByKey).reduceByKey(lambda x, y: x + y)"
   ]
  },
  {
   "cell_type": "code",
   "execution_count": 19,
   "metadata": {},
   "outputs": [
    {
     "name": "stdout",
     "output_type": "stream",
     "text": [
      "RDD with map transformation:\n",
      "[['publish_date', 'headline_category', 'headline_text'], ['20010102', 'unknown', '\"Status quo will not be disturbed at Ayodhya; says Vajpayee\"'], ['20010102', 'unknown', '\"Fissures in Hurriyat over Pak visit\"'], ['20010102', 'unknown', '\"America\\'s unwanted heading for India?\"'], ['20010102', 'unknown', '\"For bigwigs; it is destination Goa\"']]\n",
      "\n",
      "RDD with flatMap transformation:\n",
      "['publish_date', 'headline_category', 'headline_text', '20010102', 'unknown', '\"Status quo will not be disturbed at Ayodhya; says Vajpayee\"', '20010102', 'unknown', '\"Fissures in Hurriyat over Pak visit\"', '20010102']\n",
      "\n",
      "RDD with reduceByKey transformation:\n",
      "[('home.sunday-times.all-that-matters', 3501), ('delhi-times', 8449), ('life-style.beauty', 3051), ('all-colour-edition', 17), ('pm-on-europe-tour.news', 28)]\n"
     ]
    }
   ],
   "source": [
    "#results\n",
    "print(\"RDD with map transformation:\")\n",
    "try:\n",
    "    print(rdd_map.take(5))\n",
    "except Exception as e:\n",
    "    print(\"An error occurred while executing take(5) on RDD with map transformation:\", str(e))\n",
    "\n",
    "print(\"\\nRDD with flatMap transformation:\")\n",
    "try:\n",
    "    print(rdd_flatMap.take(10))\n",
    "except Exception as e:\n",
    "    print(\"An error occurred while executing take(10) on RDD with flatMap transformation:\", str(e))\n",
    "\n",
    "print(\"\\nRDD with reduceByKey transformation:\")\n",
    "try:\n",
    "    print(rdd_reduceByKey.take(5))\n",
    "except Exception as e:\n",
    "    print(\"An error occurred while executing take(5) on RDD with reduceByKey transformation:\", str(e))\n"
   ]
  },
  {
   "cell_type": "code",
   "execution_count": null,
   "metadata": {
    "pycharm": {
     "name": "#%%\n"
    }
   },
   "outputs": [],
   "source": []
  }
 ],
 "metadata": {
  "kernelspec": {
   "display_name": "Python 3 (ipykernel)",
   "language": "python",
   "name": "python3"
  },
  "language_info": {
   "codemirror_mode": {
    "name": "ipython",
    "version": 3
   },
   "file_extension": ".py",
   "mimetype": "text/x-python",
   "name": "python",
   "nbconvert_exporter": "python",
   "pygments_lexer": "ipython3",
   "version": "3.7.13"
  }
 },
 "nbformat": 4,
 "nbformat_minor": 2
}
